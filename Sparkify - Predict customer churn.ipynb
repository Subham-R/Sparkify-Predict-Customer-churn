{
 "cells": [
  {
   "cell_type": "markdown",
   "metadata": {},
   "source": [
    "# Sparkify Project Workspace\n",
    "This workspace contains a tiny subset (128MB) of the full dataset available (12GB). Feel free to use this workspace to build your project, or to explore a smaller subset with Spark before deploying your cluster on the cloud. Instructions for setting up your Spark cluster is included in the last lesson of the Extracurricular Spark Course content.\n",
    "\n",
    "You can follow the steps below to guide your data analysis and model building portion of this project."
   ]
  },
  {
   "cell_type": "code",
   "execution_count": 1,
   "metadata": {},
   "outputs": [],
   "source": [
    "# import libraries\n",
    "import pyspark\n",
    "from pyspark.sql import SparkSession\n",
    "from pyspark.sql.functions import avg, col, concat, desc, explode, lit, min, max, split, udf, when, isnull\n",
    "from pyspark.sql.types import IntegerType\n",
    "from pyspark.sql.window import Window\n",
    "from pyspark.ml import Pipeline\n",
    "from pyspark.ml.classification import LogisticRegression, RandomForestClassifier, DecisionTreeClassifier, LinearSVC, NaiveBayes\n",
    "from pyspark.ml.evaluation import MulticlassClassificationEvaluator\n",
    "from pyspark.ml.feature import CountVectorizer, Normalizer, PCA, RegexTokenizer, StandardScaler, StopWordsRemover, StringIndexer, VectorAssembler\n",
    "from pyspark.ml.tuning import CrossValidator, ParamGridBuilder\n",
    "\n",
    "\n",
    "import datetime\n",
    "import numpy as np\n",
    "import matplotlib.pyplot as plt\n",
    "import pandas as pd\n",
    "import seaborn as sns"
   ]
  },
  {
   "cell_type": "code",
   "execution_count": 2,
   "metadata": {},
   "outputs": [
    {
     "data": {
      "text/plain": [
       "[('spark.app.id', 'local-1578672246867'),\n",
       " ('spark.rdd.compress', 'True'),\n",
       " ('spark.app.name', 'Sparkify'),\n",
       " ('spark.serializer.objectStreamReset', '100'),\n",
       " ('spark.driver.host', '1bedf3c14e4d'),\n",
       " ('config option', 'config value'),\n",
       " ('spark.master', 'local[*]'),\n",
       " ('spark.executor.id', 'driver'),\n",
       " ('spark.submit.deployMode', 'client'),\n",
       " ('spark.ui.showConsoleProgress', 'true'),\n",
       " ('spark.driver.port', '39585')]"
      ]
     },
     "execution_count": 2,
     "metadata": {},
     "output_type": "execute_result"
    }
   ],
   "source": [
    "# create a Spark session\n",
    "spark = SparkSession \\\n",
    "    .builder \\\n",
    "    .appName(\"Sparkify\") \\\n",
    "    .config(\"config option\",\"config value\")\\\n",
    "    .getOrCreate()\n",
    "\n",
    "spark.sparkContext.getConf().getAll()"
   ]
  },
  {
   "cell_type": "markdown",
   "metadata": {},
   "source": [
    "# Load and Clean Dataset\n",
    "In this workspace, the mini-dataset file is `mini_sparkify_event_data.json`. Load and clean the dataset, checking for invalid or missing data - for example, records without userids or sessionids. "
   ]
  },
  {
   "cell_type": "code",
   "execution_count": 3,
   "metadata": {},
   "outputs": [
    {
     "data": {
      "text/plain": [
       "DataFrame[artist: string, auth: string, firstName: string, gender: string, itemInSession: bigint, lastName: string, length: double, level: string, location: string, method: string, page: string, registration: bigint, sessionId: bigint, song: string, status: bigint, ts: bigint, userAgent: string, userId: string]"
      ]
     },
     "execution_count": 3,
     "metadata": {},
     "output_type": "execute_result"
    }
   ],
   "source": [
    "# Load input data\n",
    "data_sparkify = \"mini_sparkify_event_data.json\"\n",
    "df_sprk = spark.read.json(data_sparkify)\n",
    "df_sprk.persist()"
   ]
  },
  {
   "cell_type": "code",
   "execution_count": 4,
   "metadata": {},
   "outputs": [
    {
     "data": {
      "text/html": [
       "<div>\n",
       "<style scoped>\n",
       "    .dataframe tbody tr th:only-of-type {\n",
       "        vertical-align: middle;\n",
       "    }\n",
       "\n",
       "    .dataframe tbody tr th {\n",
       "        vertical-align: top;\n",
       "    }\n",
       "\n",
       "    .dataframe thead th {\n",
       "        text-align: right;\n",
       "    }\n",
       "</style>\n",
       "<table border=\"1\" class=\"dataframe\">\n",
       "  <thead>\n",
       "    <tr style=\"text-align: right;\">\n",
       "      <th></th>\n",
       "      <th>artist</th>\n",
       "      <th>auth</th>\n",
       "      <th>firstName</th>\n",
       "      <th>gender</th>\n",
       "      <th>itemInSession</th>\n",
       "      <th>lastName</th>\n",
       "      <th>length</th>\n",
       "      <th>level</th>\n",
       "      <th>location</th>\n",
       "      <th>method</th>\n",
       "      <th>page</th>\n",
       "      <th>registration</th>\n",
       "      <th>sessionId</th>\n",
       "      <th>song</th>\n",
       "      <th>status</th>\n",
       "      <th>ts</th>\n",
       "      <th>userAgent</th>\n",
       "      <th>userId</th>\n",
       "    </tr>\n",
       "  </thead>\n",
       "  <tbody>\n",
       "    <tr>\n",
       "      <th>0</th>\n",
       "      <td>Martha Tilston</td>\n",
       "      <td>Logged In</td>\n",
       "      <td>Colin</td>\n",
       "      <td>M</td>\n",
       "      <td>50</td>\n",
       "      <td>Freeman</td>\n",
       "      <td>277.89016</td>\n",
       "      <td>paid</td>\n",
       "      <td>Bakersfield, CA</td>\n",
       "      <td>PUT</td>\n",
       "      <td>NextSong</td>\n",
       "      <td>1.538173e+12</td>\n",
       "      <td>29</td>\n",
       "      <td>Rockpools</td>\n",
       "      <td>200</td>\n",
       "      <td>1538352117000</td>\n",
       "      <td>Mozilla/5.0 (Windows NT 6.1; WOW64; rv:31.0) G...</td>\n",
       "      <td>30</td>\n",
       "    </tr>\n",
       "    <tr>\n",
       "      <th>1</th>\n",
       "      <td>Five Iron Frenzy</td>\n",
       "      <td>Logged In</td>\n",
       "      <td>Micah</td>\n",
       "      <td>M</td>\n",
       "      <td>79</td>\n",
       "      <td>Long</td>\n",
       "      <td>236.09424</td>\n",
       "      <td>free</td>\n",
       "      <td>Boston-Cambridge-Newton, MA-NH</td>\n",
       "      <td>PUT</td>\n",
       "      <td>NextSong</td>\n",
       "      <td>1.538332e+12</td>\n",
       "      <td>8</td>\n",
       "      <td>Canada</td>\n",
       "      <td>200</td>\n",
       "      <td>1538352180000</td>\n",
       "      <td>\"Mozilla/5.0 (Windows NT 6.1; WOW64) AppleWebK...</td>\n",
       "      <td>9</td>\n",
       "    </tr>\n",
       "    <tr>\n",
       "      <th>2</th>\n",
       "      <td>Adam Lambert</td>\n",
       "      <td>Logged In</td>\n",
       "      <td>Colin</td>\n",
       "      <td>M</td>\n",
       "      <td>51</td>\n",
       "      <td>Freeman</td>\n",
       "      <td>282.82730</td>\n",
       "      <td>paid</td>\n",
       "      <td>Bakersfield, CA</td>\n",
       "      <td>PUT</td>\n",
       "      <td>NextSong</td>\n",
       "      <td>1.538173e+12</td>\n",
       "      <td>29</td>\n",
       "      <td>Time For Miracles</td>\n",
       "      <td>200</td>\n",
       "      <td>1538352394000</td>\n",
       "      <td>Mozilla/5.0 (Windows NT 6.1; WOW64; rv:31.0) G...</td>\n",
       "      <td>30</td>\n",
       "    </tr>\n",
       "    <tr>\n",
       "      <th>3</th>\n",
       "      <td>Enigma</td>\n",
       "      <td>Logged In</td>\n",
       "      <td>Micah</td>\n",
       "      <td>M</td>\n",
       "      <td>80</td>\n",
       "      <td>Long</td>\n",
       "      <td>262.71302</td>\n",
       "      <td>free</td>\n",
       "      <td>Boston-Cambridge-Newton, MA-NH</td>\n",
       "      <td>PUT</td>\n",
       "      <td>NextSong</td>\n",
       "      <td>1.538332e+12</td>\n",
       "      <td>8</td>\n",
       "      <td>Knocking On Forbidden Doors</td>\n",
       "      <td>200</td>\n",
       "      <td>1538352416000</td>\n",
       "      <td>\"Mozilla/5.0 (Windows NT 6.1; WOW64) AppleWebK...</td>\n",
       "      <td>9</td>\n",
       "    </tr>\n",
       "    <tr>\n",
       "      <th>4</th>\n",
       "      <td>Daft Punk</td>\n",
       "      <td>Logged In</td>\n",
       "      <td>Colin</td>\n",
       "      <td>M</td>\n",
       "      <td>52</td>\n",
       "      <td>Freeman</td>\n",
       "      <td>223.60771</td>\n",
       "      <td>paid</td>\n",
       "      <td>Bakersfield, CA</td>\n",
       "      <td>PUT</td>\n",
       "      <td>NextSong</td>\n",
       "      <td>1.538173e+12</td>\n",
       "      <td>29</td>\n",
       "      <td>Harder Better Faster Stronger</td>\n",
       "      <td>200</td>\n",
       "      <td>1538352676000</td>\n",
       "      <td>Mozilla/5.0 (Windows NT 6.1; WOW64; rv:31.0) G...</td>\n",
       "      <td>30</td>\n",
       "    </tr>\n",
       "  </tbody>\n",
       "</table>\n",
       "</div>"
      ],
      "text/plain": [
       "             artist       auth firstName gender  itemInSession lastName  \\\n",
       "0    Martha Tilston  Logged In     Colin      M             50  Freeman   \n",
       "1  Five Iron Frenzy  Logged In     Micah      M             79     Long   \n",
       "2      Adam Lambert  Logged In     Colin      M             51  Freeman   \n",
       "3            Enigma  Logged In     Micah      M             80     Long   \n",
       "4         Daft Punk  Logged In     Colin      M             52  Freeman   \n",
       "\n",
       "      length level                        location method      page  \\\n",
       "0  277.89016  paid                 Bakersfield, CA    PUT  NextSong   \n",
       "1  236.09424  free  Boston-Cambridge-Newton, MA-NH    PUT  NextSong   \n",
       "2  282.82730  paid                 Bakersfield, CA    PUT  NextSong   \n",
       "3  262.71302  free  Boston-Cambridge-Newton, MA-NH    PUT  NextSong   \n",
       "4  223.60771  paid                 Bakersfield, CA    PUT  NextSong   \n",
       "\n",
       "   registration  sessionId                           song  status  \\\n",
       "0  1.538173e+12         29                      Rockpools     200   \n",
       "1  1.538332e+12          8                         Canada     200   \n",
       "2  1.538173e+12         29              Time For Miracles     200   \n",
       "3  1.538332e+12          8    Knocking On Forbidden Doors     200   \n",
       "4  1.538173e+12         29  Harder Better Faster Stronger     200   \n",
       "\n",
       "              ts                                          userAgent userId  \n",
       "0  1538352117000  Mozilla/5.0 (Windows NT 6.1; WOW64; rv:31.0) G...     30  \n",
       "1  1538352180000  \"Mozilla/5.0 (Windows NT 6.1; WOW64) AppleWebK...      9  \n",
       "2  1538352394000  Mozilla/5.0 (Windows NT 6.1; WOW64; rv:31.0) G...     30  \n",
       "3  1538352416000  \"Mozilla/5.0 (Windows NT 6.1; WOW64) AppleWebK...      9  \n",
       "4  1538352676000  Mozilla/5.0 (Windows NT 6.1; WOW64; rv:31.0) G...     30  "
      ]
     },
     "execution_count": 4,
     "metadata": {},
     "output_type": "execute_result"
    }
   ],
   "source": [
    "# Covert data into paandas dataframe\n",
    "df = df_sprk.toPandas()\n",
    "df.head() # data loaded successfully"
   ]
  },
  {
   "cell_type": "code",
   "execution_count": 5,
   "metadata": {},
   "outputs": [
    {
     "name": "stdout",
     "output_type": "stream",
     "text": [
      "(286500, 18)\n",
      "artist            object\n",
      "auth              object\n",
      "firstName         object\n",
      "gender            object\n",
      "itemInSession      int64\n",
      "lastName          object\n",
      "length           float64\n",
      "level             object\n",
      "location          object\n",
      "method            object\n",
      "page              object\n",
      "registration     float64\n",
      "sessionId          int64\n",
      "song              object\n",
      "status             int64\n",
      "ts                 int64\n",
      "userAgent         object\n",
      "userId            object\n",
      "dtype: object\n"
     ]
    }
   ],
   "source": [
    "print(df.shape) # 286,500 rows and 15 columns\n",
    "print(df.dtypes)"
   ]
  },
  {
   "cell_type": "code",
   "execution_count": 6,
   "metadata": {},
   "outputs": [
    {
     "data": {
      "text/html": [
       "<div>\n",
       "<style scoped>\n",
       "    .dataframe tbody tr th:only-of-type {\n",
       "        vertical-align: middle;\n",
       "    }\n",
       "\n",
       "    .dataframe tbody tr th {\n",
       "        vertical-align: top;\n",
       "    }\n",
       "\n",
       "    .dataframe thead th {\n",
       "        text-align: right;\n",
       "    }\n",
       "</style>\n",
       "<table border=\"1\" class=\"dataframe\">\n",
       "  <thead>\n",
       "    <tr style=\"text-align: right;\">\n",
       "      <th></th>\n",
       "      <th>itemInSession</th>\n",
       "      <th>length</th>\n",
       "      <th>registration</th>\n",
       "      <th>sessionId</th>\n",
       "      <th>status</th>\n",
       "      <th>ts</th>\n",
       "    </tr>\n",
       "  </thead>\n",
       "  <tbody>\n",
       "    <tr>\n",
       "      <th>count</th>\n",
       "      <td>286500.000000</td>\n",
       "      <td>228108.000000</td>\n",
       "      <td>2.781540e+05</td>\n",
       "      <td>286500.000000</td>\n",
       "      <td>286500.000000</td>\n",
       "      <td>2.865000e+05</td>\n",
       "    </tr>\n",
       "    <tr>\n",
       "      <th>mean</th>\n",
       "      <td>114.414213</td>\n",
       "      <td>249.117182</td>\n",
       "      <td>1.535359e+12</td>\n",
       "      <td>1041.526555</td>\n",
       "      <td>210.054597</td>\n",
       "      <td>1.540957e+12</td>\n",
       "    </tr>\n",
       "    <tr>\n",
       "      <th>std</th>\n",
       "      <td>129.767262</td>\n",
       "      <td>99.235179</td>\n",
       "      <td>3.291322e+09</td>\n",
       "      <td>726.776263</td>\n",
       "      <td>31.505078</td>\n",
       "      <td>1.507544e+09</td>\n",
       "    </tr>\n",
       "    <tr>\n",
       "      <th>min</th>\n",
       "      <td>0.000000</td>\n",
       "      <td>0.783220</td>\n",
       "      <td>1.521381e+12</td>\n",
       "      <td>1.000000</td>\n",
       "      <td>200.000000</td>\n",
       "      <td>1.538352e+12</td>\n",
       "    </tr>\n",
       "    <tr>\n",
       "      <th>25%</th>\n",
       "      <td>27.000000</td>\n",
       "      <td>199.888530</td>\n",
       "      <td>1.533522e+12</td>\n",
       "      <td>336.000000</td>\n",
       "      <td>200.000000</td>\n",
       "      <td>1.539697e+12</td>\n",
       "    </tr>\n",
       "    <tr>\n",
       "      <th>50%</th>\n",
       "      <td>70.000000</td>\n",
       "      <td>234.500770</td>\n",
       "      <td>1.536664e+12</td>\n",
       "      <td>1013.000000</td>\n",
       "      <td>200.000000</td>\n",
       "      <td>1.540932e+12</td>\n",
       "    </tr>\n",
       "    <tr>\n",
       "      <th>75%</th>\n",
       "      <td>156.250000</td>\n",
       "      <td>277.158730</td>\n",
       "      <td>1.537672e+12</td>\n",
       "      <td>1675.000000</td>\n",
       "      <td>200.000000</td>\n",
       "      <td>1.542266e+12</td>\n",
       "    </tr>\n",
       "    <tr>\n",
       "      <th>max</th>\n",
       "      <td>1321.000000</td>\n",
       "      <td>3024.665670</td>\n",
       "      <td>1.543247e+12</td>\n",
       "      <td>2474.000000</td>\n",
       "      <td>404.000000</td>\n",
       "      <td>1.543799e+12</td>\n",
       "    </tr>\n",
       "  </tbody>\n",
       "</table>\n",
       "</div>"
      ],
      "text/plain": [
       "       itemInSession         length  registration      sessionId  \\\n",
       "count  286500.000000  228108.000000  2.781540e+05  286500.000000   \n",
       "mean      114.414213     249.117182  1.535359e+12    1041.526555   \n",
       "std       129.767262      99.235179  3.291322e+09     726.776263   \n",
       "min         0.000000       0.783220  1.521381e+12       1.000000   \n",
       "25%        27.000000     199.888530  1.533522e+12     336.000000   \n",
       "50%        70.000000     234.500770  1.536664e+12    1013.000000   \n",
       "75%       156.250000     277.158730  1.537672e+12    1675.000000   \n",
       "max      1321.000000    3024.665670  1.543247e+12    2474.000000   \n",
       "\n",
       "              status            ts  \n",
       "count  286500.000000  2.865000e+05  \n",
       "mean      210.054597  1.540957e+12  \n",
       "std        31.505078  1.507544e+09  \n",
       "min       200.000000  1.538352e+12  \n",
       "25%       200.000000  1.539697e+12  \n",
       "50%       200.000000  1.540932e+12  \n",
       "75%       200.000000  1.542266e+12  \n",
       "max       404.000000  1.543799e+12  "
      ]
     },
     "execution_count": 6,
     "metadata": {},
     "output_type": "execute_result"
    }
   ],
   "source": [
    "df.describe() # summary of the numercial data"
   ]
  },
  {
   "cell_type": "code",
   "execution_count": 7,
   "metadata": {},
   "outputs": [
    {
     "data": {
      "text/plain": [
       "artist           58392\n",
       "auth                 0\n",
       "firstName         8346\n",
       "gender            8346\n",
       "itemInSession        0\n",
       "lastName          8346\n",
       "length           58392\n",
       "level                0\n",
       "location          8346\n",
       "method               0\n",
       "page                 0\n",
       "registration      8346\n",
       "sessionId            0\n",
       "song             58392\n",
       "status               0\n",
       "ts                   0\n",
       "userAgent         8346\n",
       "userId               0\n",
       "dtype: int64"
      ]
     },
     "execution_count": 7,
     "metadata": {},
     "output_type": "execute_result"
    }
   ],
   "source": [
    "df.isnull().sum() # Count of null values for each columns\n",
    "#userId has zero null values"
   ]
  },
  {
   "cell_type": "code",
   "execution_count": 8,
   "metadata": {},
   "outputs": [
    {
     "data": {
      "text/plain": [
       "39        9632\n",
       "          8346\n",
       "92        7230\n",
       "140       6880\n",
       "300011    5732\n",
       "124       4825\n",
       "300021    4659\n",
       "300017    4428\n",
       "85        4370\n",
       "42        4257\n",
       "200023    3769\n",
       "6         3761\n",
       "29        3603\n",
       "54        3437\n",
       "100       3214\n",
       "9         3191\n",
       "126       3102\n",
       "300015    3051\n",
       "91        3014\n",
       "98        2891\n",
       "74        2887\n",
       "118       2868\n",
       "136       2567\n",
       "65        2544\n",
       "138       2469\n",
       "88        2465\n",
       "51        2464\n",
       "4         2442\n",
       "97        2404\n",
       "81        2335\n",
       "          ... \n",
       "300007     143\n",
       "144        125\n",
       "154        118\n",
       "72         117\n",
       "57         112\n",
       "32         108\n",
       "63         107\n",
       "300024     102\n",
       "84          97\n",
       "100019      89\n",
       "200012      84\n",
       "116         79\n",
       "100003      78\n",
       "200007      76\n",
       "100017      75\n",
       "34          73\n",
       "64          68\n",
       "122         62\n",
       "134         52\n",
       "68          48\n",
       "90          45\n",
       "133         44\n",
       "100006      44\n",
       "22          40\n",
       "100024      36\n",
       "300003      35\n",
       "100011      23\n",
       "125         11\n",
       "156          6\n",
       "135          6\n",
       "Name: userId, Length: 226, dtype: int64"
      ]
     },
     "execution_count": 8,
     "metadata": {},
     "output_type": "execute_result"
    }
   ],
   "source": [
    "df['userId'].value_counts() # Count of records by userid"
   ]
  },
  {
   "cell_type": "markdown",
   "metadata": {},
   "source": [
    "For the 8346 records we have observed that userId is blank but not categoriesed as null. Since we will be analysing and predicting the data based on the userIds, these records should be removed from the dataset"
   ]
  },
  {
   "cell_type": "code",
   "execution_count": 9,
   "metadata": {},
   "outputs": [],
   "source": [
    "#Remove blank user ids\n",
    "df_sprk = df_sprk[df_sprk[\"userId\"] != \"\"]"
   ]
  },
  {
   "cell_type": "code",
   "execution_count": 10,
   "metadata": {},
   "outputs": [
    {
     "data": {
      "text/plain": [
       "278154"
      ]
     },
     "execution_count": 10,
     "metadata": {},
     "output_type": "execute_result"
    }
   ],
   "source": [
    "df_sprk.count() #blank user ids removed succesfully"
   ]
  },
  {
   "cell_type": "code",
   "execution_count": 11,
   "metadata": {},
   "outputs": [],
   "source": [
    "df = df[df[\"userId\"] != \"\"]"
   ]
  },
  {
   "cell_type": "code",
   "execution_count": null,
   "metadata": {},
   "outputs": [],
   "source": []
  },
  {
   "cell_type": "markdown",
   "metadata": {},
   "source": [
    "# Exploratory Data Analysis\n",
    "When you're working with the full dataset, perform EDA by loading a small subset of the data and doing basic manipulations within Spark. In this workspace, you are already provided a small subset of data you can explore.\n",
    "\n",
    "### Define Churn\n",
    "\n",
    "Once you've done some preliminary analysis, create a column `Churn` to use as the label for your model. I suggest using the `Cancellation Confirmation` events to define your churn, which happen for both paid and free users. As a bonus task, you can also look into the `Downgrade` events.\n",
    "\n",
    "### Explore Data\n",
    "Once you've defined churn, perform some exploratory data analysis to observe the behavior for users who stayed vs users who churned. You can start by exploring aggregates on these two groups of users, observing how much of a specific action they experienced per a certain time unit or number of songs played."
   ]
  },
  {
   "cell_type": "code",
   "execution_count": 12,
   "metadata": {},
   "outputs": [
    {
     "name": "stdout",
     "output_type": "stream",
     "text": [
      "+--------------------+\n",
      "|                page|\n",
      "+--------------------+\n",
      "|              Cancel|\n",
      "|    Submit Downgrade|\n",
      "|         Thumbs Down|\n",
      "|                Home|\n",
      "|           Downgrade|\n",
      "|         Roll Advert|\n",
      "|              Logout|\n",
      "|       Save Settings|\n",
      "|Cancellation Conf...|\n",
      "|               About|\n",
      "|            Settings|\n",
      "|     Add to Playlist|\n",
      "|          Add Friend|\n",
      "|            NextSong|\n",
      "|           Thumbs Up|\n",
      "|                Help|\n",
      "|             Upgrade|\n",
      "|               Error|\n",
      "|      Submit Upgrade|\n",
      "+--------------------+\n",
      "\n"
     ]
    }
   ],
   "source": [
    "df_sprk.select(\"page\").dropDuplicates().show()"
   ]
  },
  {
   "cell_type": "code",
   "execution_count": 13,
   "metadata": {},
   "outputs": [],
   "source": [
    "# creating time column in datetime format using from ts column \n",
    "get_time = udf(lambda x: datetime.datetime.fromtimestamp(x / 1000.0).strftime(\"%Y-%m-%d %H:%M:%S\"))\n",
    "df_sprk = df_sprk.withColumn(\"time\", get_time(df_sprk.ts))"
   ]
  },
  {
   "cell_type": "code",
   "execution_count": 14,
   "metadata": {},
   "outputs": [
    {
     "data": {
      "text/plain": [
       "[('artist', 'string'),\n",
       " ('auth', 'string'),\n",
       " ('firstName', 'string'),\n",
       " ('gender', 'string'),\n",
       " ('itemInSession', 'bigint'),\n",
       " ('lastName', 'string'),\n",
       " ('length', 'double'),\n",
       " ('level', 'string'),\n",
       " ('location', 'string'),\n",
       " ('method', 'string'),\n",
       " ('page', 'string'),\n",
       " ('registration', 'bigint'),\n",
       " ('sessionId', 'bigint'),\n",
       " ('song', 'string'),\n",
       " ('status', 'bigint'),\n",
       " ('ts', 'bigint'),\n",
       " ('userAgent', 'string'),\n",
       " ('userId', 'string'),\n",
       " ('time', 'string')]"
      ]
     },
     "execution_count": 14,
     "metadata": {},
     "output_type": "execute_result"
    }
   ],
   "source": [
    "df_sprk.dtypes"
   ]
  },
  {
   "cell_type": "code",
   "execution_count": 15,
   "metadata": {},
   "outputs": [
    {
     "name": "stdout",
     "output_type": "stream",
     "text": [
      "+------+--------+-------------------+-----+-------------+\n",
      "|userId|    page|               time|level|           ts|\n",
      "+------+--------+-------------------+-----+-------------+\n",
      "|    30|NextSong|2018-10-01 00:01:57| paid|1538352117000|\n",
      "|     9|NextSong|2018-10-01 00:03:00| free|1538352180000|\n",
      "|    30|NextSong|2018-10-01 00:06:34| paid|1538352394000|\n",
      "|     9|NextSong|2018-10-01 00:06:56| free|1538352416000|\n",
      "|    30|NextSong|2018-10-01 00:11:16| paid|1538352676000|\n",
      "+------+--------+-------------------+-----+-------------+\n",
      "only showing top 5 rows\n",
      "\n"
     ]
    }
   ],
   "source": [
    "df_sprk.select(['userId', 'page', 'time', 'level','ts']).sort(\"time\").show(5)"
   ]
  },
  {
   "cell_type": "markdown",
   "metadata": {},
   "source": [
    "#### Chrun identification \n",
    "\n",
    "Identify`Churn` users using the `Cancellation Confirmation` events to identify churn, which happen for both paid and free users. \n"
   ]
  },
  {
   "cell_type": "code",
   "execution_count": 16,
   "metadata": {},
   "outputs": [],
   "source": [
    "# created customer churn flag\n",
    "churn_flag = udf(lambda x:1 if x==\"Cancellation Confirmation\" else 0, IntegerType())\n",
    "df_sprk = df_sprk.withColumn(\"churn_flag\",churn_flag(\"page\"))\n",
    "\n",
    "# User that have Churned once\n",
    "val1 = Window.partitionBy('userId')\n",
    "df_sprk = df_sprk.withColumn('churn', max('churn_flag').over(val1))"
   ]
  },
  {
   "cell_type": "markdown",
   "metadata": {},
   "source": [
    "#### Downgrade identification \n",
    "\n",
    "Identify `downgrade` users using the `Submit downgrade` events to identify downgrade \n"
   ]
  },
  {
   "cell_type": "code",
   "execution_count": 17,
   "metadata": {},
   "outputs": [],
   "source": [
    "# created customer downgrade flag\n",
    "down_flag = udf(lambda x:1 if x==\"Submit Downgrade\" else 0, IntegerType())\n",
    "df_sprk = df_sprk.withColumn(\"Downgrade_flag\", down_flag(\"page\"))\n",
    "\n",
    "\n",
    "# label Downgraded users (if Downgraded  once)\n",
    "val2 = Window.partitionBy('userId')\n",
    "df_sprk = df_sprk.withColumn('Downgraded', max('Downgrade_flag').over(val2))"
   ]
  },
  {
   "cell_type": "code",
   "execution_count": 18,
   "metadata": {},
   "outputs": [],
   "source": [
    "#Drop the flag columns as \n",
    "columns_to_drop = ['churn_flag', 'Downgrade_flag']\n",
    "df_sprk = df_sprk.drop(*columns_to_drop)"
   ]
  },
  {
   "cell_type": "code",
   "execution_count": 19,
   "metadata": {},
   "outputs": [
    {
     "name": "stdout",
     "output_type": "stream",
     "text": [
      "+------+-----+----------+\n",
      "|userId|Churn|Downgraded|\n",
      "+------+-----+----------+\n",
      "|    30|    0|         1|\n",
      "|     9|    0|         1|\n",
      "|    30|    0|         1|\n",
      "|     9|    0|         1|\n",
      "|    30|    0|         1|\n",
      "+------+-----+----------+\n",
      "only showing top 5 rows\n",
      "\n"
     ]
    }
   ],
   "source": [
    "df_sprk.select([\"userId\", \"Churn\",\"Downgraded\"]).sort(\"time\").show(5)"
   ]
  },
  {
   "cell_type": "code",
   "execution_count": 20,
   "metadata": {},
   "outputs": [
    {
     "data": {
      "text/plain": [
       "Text(0,0.5,'No.of Customers')"
      ]
     },
     "execution_count": 20,
     "metadata": {},
     "output_type": "execute_result"
    },
    {
     "data": {
      "image/png": "[encoded data removed]",
      "text/plain": [
       "<matplotlib.figure.Figure at 0x7f7478a5ba90>"
      ]
     },
     "metadata": {
      "needs_background": "light"
     },
     "output_type": "display_data"
    }
   ],
   "source": [
    "# Plot churn and downgrade count\n",
    "plt.figure(figsize=(12,6))\n",
    "\n",
    "# Churn\n",
    "plt.subplot(1, 2, 1)\n",
    "count_churn = df_sprk.select(['churn']).toPandas()\n",
    "sns.countplot(count_churn['churn']);\n",
    "plt.xlabel('Customer churned 0:No 1:Yes ')\n",
    "plt.ylabel('No.of Customers')\n",
    "\n",
    "# Downgrades\n",
    "plt.subplot(1, 2, 2)\n",
    "count_downgrade = df_sprk.select(['Downgraded']).toPandas()\n",
    "sns.countplot(count_downgrade['Downgraded']);\n",
    "plt.xlabel('Customer downgraded 0:No 1:Yes ')\n",
    "plt.ylabel('No.of Customers')"
   ]
  },
  {
   "cell_type": "code",
   "execution_count": 21,
   "metadata": {},
   "outputs": [
    {
     "data": {
      "text/plain": [
       "(278154, 1)"
      ]
     },
     "execution_count": 21,
     "metadata": {},
     "output_type": "execute_result"
    }
   ],
   "source": [
    "count_churn.shape"
   ]
  },
  {
   "cell_type": "code",
   "execution_count": 22,
   "metadata": {},
   "outputs": [
    {
     "name": "stdout",
     "output_type": "stream",
     "text": [
      "0    233290\n",
      "1     44864\n",
      "Name: churn, dtype: int64\n",
      "0    171502\n",
      "1    106652\n",
      "Name: Downgraded, dtype: int64\n"
     ]
    }
   ],
   "source": [
    "print(count_churn['churn'].value_counts())\n",
    "print(count_downgrade['Downgraded'].value_counts())"
   ]
  },
  {
   "cell_type": "markdown",
   "metadata": {},
   "source": [
    "#### Out of 278 thousand users around 44.9 thousand customers were identified as churn and 106.7 thousand customers were identifies as downgraded"
   ]
  },
  {
   "cell_type": "code",
   "execution_count": 23,
   "metadata": {},
   "outputs": [],
   "source": [
    "# Function\n",
    "def plot_charts(fieldkpi,field_group):\n",
    "    \"\"\"\n",
    "    Input:\n",
    "      1 - fieldkpi- Which kpi to be aggregated and displayed\n",
    "      2 - field_group - Onwhich fields the kpis are to be aggregared\n",
    "    \n",
    "    Output:\n",
    "      Charts\n",
    "    \"\"\"\n",
    "    #defining data to be plotted\n",
    "    df_sprk_plot = df_sprk.dropDuplicates(['userId', field_group]).groupby([fieldkpi,field_group]).count().sort(fieldkpi).toPandas()\n",
    "    #Adding Yes/No for 1 and 0 in Churn\n",
    "    Value_map = {1:'yes', 0:'no'}\n",
    "    df_sprk_plot[fieldkpi] = df_sprk_plot[fieldkpi].map(Value_map)\n",
    "    #Plotting\n",
    "    sns.barplot(x=fieldkpi, y='count', hue=field_group, data=df_sprk_plot);"
   ]
  },
  {
   "cell_type": "code",
   "execution_count": 24,
   "metadata": {},
   "outputs": [
    {
     "data": {
      "text/plain": [
       "Text(0,0.5,'No.of Customers')"
      ]
     },
     "execution_count": 24,
     "metadata": {},
     "output_type": "execute_result"
    },
    {
     "data": {
      "image/png": "[encoded data removed]",
      "text/plain": [
       "<matplotlib.figure.Figure at 0x7f7485989c88>"
      ]
     },
     "metadata": {
      "needs_background": "light"
     },
     "output_type": "display_data"
    }
   ],
   "source": [
    "#Churn by gender and level\n",
    "plt.figure(figsize=(12,6))\n",
    "\n",
    "plt.subplot(1, 2, 1)\n",
    "plot_charts('churn','gender')\n",
    "plt.xlabel('Customer churned ')\n",
    "plt.ylabel('No.of Customers')\n",
    "\n",
    "plt.subplot(1, 2, 2)\n",
    "plot_charts('churn','level')\n",
    "plt.xlabel('Customer churned ')\n",
    "plt.ylabel('No.of Customers')"
   ]
  },
  {
   "cell_type": "markdown",
   "metadata": {},
   "source": [
    "#### Total number of males customers are greater than females and there number is also greater for Churned users. Also, Chruned proportion is higher in males than females.\n",
    "\n",
    "#### Similarly, total number of free customers are greater than paid and there number is also greater for Churned users. Also, paid cutomers are less likely to churn.\n"
   ]
  },
  {
   "cell_type": "code",
   "execution_count": 25,
   "metadata": {},
   "outputs": [
    {
     "data": {
      "text/plain": [
       "Text(0,0.5,'No.of Customers')"
      ]
     },
     "execution_count": 25,
     "metadata": {},
     "output_type": "execute_result"
    },
    {
     "data": {
      "image/png": "[encoded data removed]",
      "text/plain": [
       "<matplotlib.figure.Figure at 0x7f7479ae2940>"
      ]
     },
     "metadata": {
      "needs_background": "light"
     },
     "output_type": "display_data"
    }
   ],
   "source": [
    "#Downgrade by gender and level\n",
    "plt.figure(figsize=(12,6))\n",
    "\n",
    "plt.subplot(1, 2, 1)\n",
    "plot_charts('Downgraded','gender')\n",
    "plt.xlabel('Customer downgraded')\n",
    "plt.ylabel('No.of Customers')\n",
    "\n",
    "plt.subplot(1, 2, 2)\n",
    "plot_charts('Downgraded','level')\n",
    "plt.xlabel('Customer downgraded')\n",
    "plt.ylabel('No.of Customers')"
   ]
  },
  {
   "cell_type": "markdown",
   "metadata": {},
   "source": [
    "#### Proportion of male users downgraded is lower than females.\n",
    "\n",
    "#### Proportion of free users downgraded is lower than paid."
   ]
  },
  {
   "cell_type": "code",
   "execution_count": 26,
   "metadata": {},
   "outputs": [
    {
     "data": {
      "text/plain": [
       "Text(0.5,0,'Average songs played per session')"
      ]
     },
     "execution_count": 26,
     "metadata": {},
     "output_type": "execute_result"
    },
    {
     "data": {
      "image/png": "[encoded data removed]",
      "text/plain": [
       "<matplotlib.figure.Figure at 0x7f7478c264e0>"
      ]
     },
     "metadata": {
      "needs_background": "light"
     },
     "output_type": "display_data"
    }
   ],
   "source": [
    "# Distribution of no.of songs played in each session in each session for churn and non churn\n",
    "plt.figure(figsize=(12,6))\n",
    "plot_dist = df_sprk.groupby('churn', 'userId', 'sessionId').count() \\\n",
    "                   .groupby('churn', 'userId').agg({'count':'avg'}) \\\n",
    "                   .withColumnRenamed('avg(count)', 'Avgsongs_played').toPandas()\n",
    "\n",
    "Value_map = {1:'yes', 0:'no'}\n",
    "plot_dist['churn'] = plot_dist['churn'].map(Value_map)\n",
    "\n",
    "sns.violinplot(x='Avgsongs_played', y='churn',orient='h',data=plot_dist)\n",
    "plt.ylabel('Customer churned')\n",
    "plt.xlabel('Average songs played per session')"
   ]
  },
  {
   "cell_type": "markdown",
   "metadata": {},
   "source": [
    "### Average songs played per session is lesser for Churned users "
   ]
  },
  {
   "cell_type": "markdown",
   "metadata": {},
   "source": [
    "# Feature Engineering\n",
    "Once you've familiarized yourself with the data, build out the features you find promising to train your model on. To work with the full dataset, you can follow the following steps.\n",
    "- Write a script to extract the necessary features from the smaller subset of data\n",
    "- Ensure that your script is scalable, using the best practices discussed in Lesson 3\n",
    "- Try your script on the full data set, debugging your script if necessary\n",
    "\n",
    "If you are working in the classroom workspace, you can just extract features based on the small subset of data contained here. Be sure to transfer over this work to the larger dataset when you work on your Spark cluster."
   ]
  },
  {
   "cell_type": "markdown",
   "metadata": {},
   "source": [
    "#### Based on our observation and exploratory data analyis, we have identified following key features that will be used for modelling:\n",
    "\n",
    "    User id \n",
    "    Gender\n",
    "    Level \n",
    "    Churn\n",
    "    Downgrade\n",
    "    Number of sessions on the portal\n",
    "    No.of Songs each user has listened to\n",
    "    No.of Artists each user has listened to\n",
    "    Average time spent on the portal\n",
    "\n"
   ]
  },
  {
   "cell_type": "code",
   "execution_count": 27,
   "metadata": {},
   "outputs": [
    {
     "name": "stdout",
     "output_type": "stream",
     "text": [
      "+------+-----+\n",
      "|userId|churn|\n",
      "+------+-----+\n",
      "|    10|    0|\n",
      "|   100|    0|\n",
      "|100001|    1|\n",
      "|100002|    0|\n",
      "|100003|    1|\n",
      "+------+-----+\n",
      "only showing top 5 rows\n",
      "\n"
     ]
    }
   ],
   "source": [
    "# Unique users and churn flag\n",
    "userid_churn = df_sprk.dropDuplicates(['userId']).sort('userId').select(['userId','churn'])\n",
    "userid_churn.show(5)"
   ]
  },
  {
   "cell_type": "code",
   "execution_count": 28,
   "metadata": {},
   "outputs": [
    {
     "name": "stdout",
     "output_type": "stream",
     "text": [
      "+------+------+\n",
      "|userId|gender|\n",
      "+------+------+\n",
      "|    44|     1|\n",
      "|    46|     1|\n",
      "|    41|     1|\n",
      "|    72|     1|\n",
      "|300023|     1|\n",
      "+------+------+\n",
      "only showing top 5 rows\n",
      "\n"
     ]
    }
   ],
   "source": [
    "# Gender\n",
    "gender = df_sprk.select(\"userId\", \"gender\").dropDuplicates()\n",
    "# Changing to 0 and 1 instead of char for modeling purpose\n",
    "gender = gender.replace([\"M\", \"F\"], [\"0\", \"1\"], \"gender\")\n",
    "gender = gender.select(\"userId\", gender.gender.cast(\"int\"))\n",
    "gender.show(5)"
   ]
  },
  {
   "cell_type": "code",
   "execution_count": 29,
   "metadata": {},
   "outputs": [
    {
     "name": "stdout",
     "output_type": "stream",
     "text": [
      "+------+-----+\n",
      "|userId|level|\n",
      "+------+-----+\n",
      "|100021|    0|\n",
      "|200021|    0|\n",
      "|200001|    0|\n",
      "|     6|    0|\n",
      "|300022|    1|\n",
      "+------+-----+\n",
      "only showing top 5 rows\n",
      "\n"
     ]
    }
   ],
   "source": [
    "# Level\n",
    "level = df_sprk.select(\"userId\", \"level\").dropDuplicates()\n",
    "# Changing to 0 and 1 instead of char for modeling purpose\n",
    "level = level.replace([\"free\", \"paid\"], [\"0\", \"1\"], \"level\")\n",
    "level = level.select(\"userId\", level.level.cast(\"int\"))\n",
    "level.show(5)"
   ]
  },
  {
   "cell_type": "code",
   "execution_count": 30,
   "metadata": {},
   "outputs": [
    {
     "name": "stdout",
     "output_type": "stream",
     "text": [
      "+------+----------+\n",
      "|userId|Downgraded|\n",
      "+------+----------+\n",
      "|100010|         0|\n",
      "|200002|         0|\n",
      "|   125|         0|\n",
      "|   124|         0|\n",
      "|    51|         0|\n",
      "+------+----------+\n",
      "only showing top 5 rows\n",
      "\n"
     ]
    }
   ],
   "source": [
    "#users downgrade\n",
    "downgrade = df_sprk.select(\"userId\", \"Downgraded\").dropDuplicates()\n",
    "downgrade = downgrade.select(\"userId\", downgrade.Downgraded.cast(\"int\"))\n",
    "downgrade.show(5)"
   ]
  },
  {
   "cell_type": "code",
   "execution_count": 31,
   "metadata": {},
   "outputs": [
    {
     "name": "stdout",
     "output_type": "stream",
     "text": [
      "+------+-------------+\n",
      "|userId|session_count|\n",
      "+------+-------------+\n",
      "|100010|            7|\n",
      "|200002|            6|\n",
      "|   125|            1|\n",
      "|    51|           10|\n",
      "|   124|           29|\n",
      "+------+-------------+\n",
      "only showing top 5 rows\n",
      "\n"
     ]
    }
   ],
   "source": [
    "# No.of sessions \n",
    "session_count = df_sprk.select(\"userId\", \"sessionId\").dropDuplicates().groupby(\"userId\").count()\n",
    "session_count = session_count.withColumnRenamed(\"count\", \"session_count\")\n",
    "session_count.show(5)"
   ]
  },
  {
   "cell_type": "code",
   "execution_count": 32,
   "metadata": {},
   "outputs": [
    {
     "name": "stdout",
     "output_type": "stream",
     "text": [
      "+------+----------+\n",
      "|userId|song_count|\n",
      "+------+----------+\n",
      "|    10|       673|\n",
      "|   100|      2682|\n",
      "|100001|       133|\n",
      "|100002|       195|\n",
      "|100003|        51|\n",
      "+------+----------+\n",
      "only showing top 5 rows\n",
      "\n"
     ]
    }
   ],
   "source": [
    "# No.of Songs each user has listened to\n",
    "songs = df_sprk.where(df_sprk.song!='null').groupby('userId') \\\n",
    "    .agg({'song':'count'}).orderBy('userId') \\\n",
    "    .withColumnRenamed(\"count(song)\", \"song_count\")\n",
    "songs.show(5)"
   ]
  },
  {
   "cell_type": "code",
   "execution_count": 33,
   "metadata": {},
   "outputs": [
    {
     "name": "stdout",
     "output_type": "stream",
     "text": [
      "+------+------------+\n",
      "|userId|artist_count|\n",
      "+------+------------+\n",
      "|    10|         565|\n",
      "|   100|        1705|\n",
      "|100001|         125|\n",
      "|100002|         184|\n",
      "|100003|          50|\n",
      "+------+------------+\n",
      "only showing top 5 rows\n",
      "\n"
     ]
    }
   ],
   "source": [
    "# No.of Artists each user has listened to\n",
    "artists = df_sprk.dropDuplicates(['userId','artist']).groupby('userId') \\\n",
    "    .agg({'artist':'count'}).orderBy('userId') \\\n",
    "    .withColumnRenamed(\"count(artist)\", \"artist_count\")\n",
    "artists.show(5)"
   ]
  },
  {
   "cell_type": "code",
   "execution_count": 34,
   "metadata": {},
   "outputs": [
    {
     "name": "stdout",
     "output_type": "stream",
     "text": [
      "+------+------------------+\n",
      "|userId|   avg_sessiontime|\n",
      "+------+------------------+\n",
      "|    10|459.74722222222226|\n",
      "|   100| 316.5190476190476|\n",
      "|100001|148.15833333333333|\n",
      "|100002|201.18333333333334|\n",
      "|100003| 99.11666666666667|\n",
      "+------+------------------+\n",
      "only showing top 5 rows\n",
      "\n"
     ]
    }
   ],
   "source": [
    "# Average time spent on the portal\n",
    "user_time = df_sprk.groupby('userId', 'sessionId').agg(((max(df_sprk.ts)-min(df_sprk.ts))/(1000*60)).alias(\"sessiontime\"))\n",
    "user_time = user_time.groupby(\"userId\").agg({'sessiontime':'avg'}).orderBy('userId')\\\n",
    "                     .withColumnRenamed('avg(sessiontime)', 'avg_sessiontime')\n",
    "user_time.show(5)"
   ]
  },
  {
   "cell_type": "code",
   "execution_count": 35,
   "metadata": {},
   "outputs": [
    {
     "name": "stdout",
     "output_type": "stream",
     "text": [
      "+------+-----+------+-----+----------+-------------+----------+------------+-----------------+\n",
      "|userId|churn|gender|level|Downgraded|session_count|song_count|artist_count|  avg_sessiontime|\n",
      "+------+-----+------+-----+----------+-------------+----------+------------+-----------------+\n",
      "|    44|    0|     1|    0|         0|            3|       429|         371|586.3388888888888|\n",
      "|    44|    0|     1|    1|         0|            3|       429|         371|586.3388888888888|\n",
      "|    46|    0|     1|    1|         0|           10|       918|         710|378.0466666666666|\n",
      "|    46|    0|     1|    0|         0|           10|       918|         710|378.0466666666666|\n",
      "|    41|    0|     1|    1|         0|           12|      1894|        1319|657.6722222222223|\n",
      "+------+-----+------+-----+----------+-------------+----------+------------+-----------------+\n",
      "only showing top 5 rows\n",
      "\n"
     ]
    }
   ],
   "source": [
    "# Combining all features and preparing master table\n",
    "masterdata_features = userid_churn \n",
    "features = [gender,level,downgrade,session_count,songs,artists,user_time]\n",
    "\n",
    "for feature in features:\n",
    "    masterdata_features = masterdata_features.join(feature,'userId')\n",
    "\n",
    "masterdata_features.show(5)"
   ]
  },
  {
   "cell_type": "markdown",
   "metadata": {},
   "source": [
    "# Modeling\n",
    "Split the full dataset into train, test, and validation sets. Test out several of the machine learning methods you learned. Evaluate the accuracy of the various models, tuning parameters as necessary. Determine your winning model based on test accuracy and report results on the validation set. Since the churned users are a fairly small subset, I suggest using F1 score as the metric to optimize."
   ]
  },
  {
   "cell_type": "code",
   "execution_count": 37,
   "metadata": {},
   "outputs": [],
   "source": [
    "# Split data to train and test sets\n",
    "train, test = masterdata_features.randomSplit([0.8, 0.2], seed=42)"
   ]
  },
  {
   "cell_type": "code",
   "execution_count": 38,
   "metadata": {},
   "outputs": [],
   "source": [
    "# Define vector assembler, standard scaler and indexing\n",
    "assembler = VectorAssembler(inputCols=masterdata_features.columns[2:],outputCol='featureVector')\n",
    "scaler = StandardScaler(inputCol=\"featureVector\", outputCol=\"features\", withStd=True)\n",
    "indexer = StringIndexer(inputCol=\"churn\", outputCol=\"label\")"
   ]
  },
  {
   "cell_type": "code",
   "execution_count": 39,
   "metadata": {},
   "outputs": [],
   "source": [
    "#Evaluator for f1 score\n",
    "evaluator = MulticlassClassificationEvaluator(metricName='f1')"
   ]
  },
  {
   "cell_type": "markdown",
   "metadata": {},
   "source": [
    "#### SVM Model"
   ]
  },
  {
   "cell_type": "code",
   "execution_count": 40,
   "metadata": {},
   "outputs": [],
   "source": [
    "svm = LinearSVC(labelCol=\"label\", featuresCol=\"features\",maxIter=10)\n",
    "# Creating Pipeline\n",
    "pipeline = Pipeline(stages=[assembler, scaler, indexer, svm])\n",
    "# Grid Parameters\n",
    "param = ParamGridBuilder().build()\n",
    "#Validation\n",
    "svm_crossval = CrossValidator(estimator=pipeline, estimatorParamMaps=param, evaluator=evaluator, numFolds=3)"
   ]
  },
  {
   "cell_type": "markdown",
   "metadata": {},
   "source": [
    "### Logistic Regression Model"
   ]
  },
  {
   "cell_type": "code",
   "execution_count": 41,
   "metadata": {},
   "outputs": [],
   "source": [
    "logit_reg =  LogisticRegression(labelCol=\"label\", featuresCol=\"features\", maxIter=8, regParam=0.0, elasticNetParam=0)\n",
    "# Creating Pipeline\n",
    "pipeline = Pipeline(stages=[assembler, scaler, indexer, logit_reg])\n",
    "# Grid Parameters\n",
    "param = ParamGridBuilder().addGrid(logit_reg.regParam,[0.0, 0.001, 0.01, 0.1]).build()\n",
    "#Validation\n",
    "logit_crossval = CrossValidator(estimator=pipeline, estimatorParamMaps=param, evaluator=evaluator, numFolds=3)"
   ]
  },
  {
   "cell_type": "markdown",
   "metadata": {},
   "source": [
    "### Random Forest Model"
   ]
  },
  {
   "cell_type": "code",
   "execution_count": 45,
   "metadata": {},
   "outputs": [],
   "source": [
    "rand_for = RandomForestClassifier(numTrees=18, maxDepth=3, labelCol=\"label\", seed=42)\n",
    "# Creating Pipeline\n",
    "pipeline = Pipeline(stages=[assembler, scaler, indexer, rand_for])\n",
    "# Grid Parameters\n",
    "param = ParamGridBuilder().addGrid(rand_for.numTrees,[18, 50]).addGrid(rand_for.maxDepth,[2,3, 5]).build()\n",
    "#Validation\n",
    "rf_crossval = CrossValidator(estimator=pipeline, estimatorParamMaps=param, \n",
    "                             evaluator=evaluator, numFolds=3)"
   ]
  },
  {
   "cell_type": "code",
   "execution_count": 46,
   "metadata": {},
   "outputs": [],
   "source": [
    "def model_eval(model,modelname):\n",
    "    \"\"\"\n",
    "    Input:\n",
    "      1 - Model- Which model to evaluate\n",
    "      2 - Modelname - Name of the pipeline model created\n",
    "    \n",
    "    Output:\n",
    "      Fitted Model\n",
    "    \"\"\"\n",
    "    #Model training\n",
    "    model_evl = model.fit(train)\n",
    "    # Model evaluation\n",
    "    print(modelname)\n",
    "    print(\"\\nTraining Metrics: \",model_evl.avgMetrics)\n",
    "    # Prediction and test performance\n",
    "    predictions = model_evl.transform(test)\n",
    "    print(\"\\nTest Metric 'F1-Score': \",MulticlassClassificationEvaluator().setMetricName(\"f1\").evaluate(predictions))\n",
    "    return model_evl"
   ]
  },
  {
   "cell_type": "code",
   "execution_count": 44,
   "metadata": {},
   "outputs": [
    {
     "name": "stdout",
     "output_type": "stream",
     "text": [
      "SVM Classifier\n",
      "\n",
      "Training Metrics:  [0.6593343531154163]\n",
      "\n",
      "Test Metric 'F1-Score':  0.7224989622249897\n"
     ]
    }
   ],
   "source": [
    "#Evaluate SVM\n",
    "eval_svm = model_eval(svm_crossval, \"SVM Classifier\")"
   ]
  },
  {
   "cell_type": "code",
   "execution_count": 47,
   "metadata": {},
   "outputs": [
    {
     "name": "stdout",
     "output_type": "stream",
     "text": [
      "Logistic Regression\n",
      "\n",
      "Training Metrics:  [0.6544635482446115, 0.6544635482446115, 0.6561048941482525, 0.6593343531154163]\n",
      "\n",
      "Test Metric 'F1-Score':  0.7224989622249897\n"
     ]
    }
   ],
   "source": [
    "eval_lr = model_eval(logit_crossval, \"Logistic Regression\")"
   ]
  },
  {
   "cell_type": "code",
   "execution_count": 48,
   "metadata": {},
   "outputs": [
    {
     "name": "stdout",
     "output_type": "stream",
     "text": [
      "Random Forest Classifier\n",
      "\n",
      "Training Metrics:  [0.6593343531154163, 0.6654968133356551, 0.7013971209176768, 0.6593343531154163, 0.6593343531154163, 0.690288232377783]\n",
      "\n",
      "Test Metric 'F1-Score':  0.7368026535239774\n"
     ]
    }
   ],
   "source": [
    "#Evaluate Random Forest\n",
    "eval_rf = model_eval(rf_crossval, \"Random Forest Classifier\")"
   ]
  },
  {
   "cell_type": "markdown",
   "metadata": {},
   "source": [
    "### Training score for all three models is around ~66% but Random Forest model has highest accuracy/ F1-score ~74% of three models"
   ]
  },
  {
   "cell_type": "markdown",
   "metadata": {},
   "source": [
    "# Final Steps\n",
    "Clean up your code, adding comments and renaming variables to make the code easier to read and maintain. Refer to the Spark Project Overview page and Data Scientist Capstone Project Rubric to make sure you are including all components of the capstone project and meet all expectations. Remember, this includes thorough documentation in a README file in a Github repository, as well as a web app or blog post."
   ]
  },
  {
   "cell_type": "code",
   "execution_count": null,
   "metadata": {},
   "outputs": [],
   "source": []
  }
 ],
 "metadata": {
  "kernelspec": {
   "display_name": "Python 3",
   "language": "python",
   "name": "python3"
  },
  "language_info": {
   "codemirror_mode": {
    "name": "ipython",
    "version": 3
   },
   "file_extension": ".py",
   "mimetype": "text/x-python",
   "name": "python",
   "nbconvert_exporter": "python",
   "pygments_lexer": "ipython3",
   "version": "3.6.3"
  }
 },
 "nbformat": 4,
 "nbformat_minor": 2
}
